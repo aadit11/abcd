{
  "nbformat": 4,
  "nbformat_minor": 0,
  "metadata": {
    "colab": {
      "name": "Purchasing_Products .ipynb",
      "provenance": [],
      "collapsed_sections": []
    },
    "kernelspec": {
      "name": "python3",
      "display_name": "Python 3"
    },
    "language_info": {
      "name": "python"
    }
  },
  "cells": [
    {
      "cell_type": "markdown",
      "metadata": {
        "id": "YS2BeA2IqkFy"
      },
      "source": [
        "## Read Data from Inventory"
      ]
    },
    {
      "cell_type": "code",
      "metadata": {
        "id": "Q4FRK4d8poVj",
        "colab": {
          "base_uri": "https://localhost:8080/"
        },
        "outputId": "5a8c64f8-5a25-4b8c-af83-a3f7d21834ed"
      },
      "source": [
        "import json\n",
        "fd = open(\"record.json\", 'r')\n",
        "r = fd.read()\n",
        "fd.close()\n",
        "records = json.loads(r)\n",
        "print(r)"
      ],
      "execution_count": 1,
      "outputs": [
        {
          "output_type": "stream",
          "name": "stdout",
          "text": [
            "{\n",
            "    \"1001\": { \"name\": \"Choco Cake\", \"pr\": 100, \"qn\": 34 },\n",
            "    \"1002\": { \"name\": \"Milk Cake\", \"pr\": 800, \"qn\": 100 },\n",
            "    \"1003\": { \"name\": \"Drink\", \"pr\": 85, \"qn\": 100 },\n",
            "    \"1004\": { \"name\": \"Candy\", \"pr\": 5, \"qn\": 1000 },\n",
            "    \"1005\": { \"name\": \"Pen\", \"pr\": 20, \"qn\": 100 },\n",
            "    \"1006\": { \"name\": \"Phone\", \"pr\": 50000, \"qn\": 10 },\n",
            "    \"1007\": { \"name\": \"Mic\", \"pr\": 1500, \"qn\": 0 },\n",
            "    \"1008\": { \"name\": \"Case\", \"pr\": 599, \"qn\": 5 },\n",
            "    \"1009\": { \"name\": \"Keyboard\", \"pr\": 1999, \"qn\": 10 }\n",
            "  }\n"
          ]
        }
      ]
    },
    {
      "cell_type": "markdown",
      "metadata": {
        "id": "NFkiS0egq9Sa"
      },
      "source": [
        "## Purchasing from Inventory"
      ]
    },
    {
      "cell_type": "code",
      "metadata": {
        "id": "XSBlC2VJrERn",
        "colab": {
          "base_uri": "https://localhost:8080/"
        },
        "outputId": "e16448e6-6d56-4f67-df93-61856729b08a"
      },
      "source": [
        "id = str(input(\"Enter the product ID : \"))\n",
        "if id in records.keys() :\n",
        "    qp = int(input(\"Enter the quantity : \"))\n",
        "    # checking if enough quantity is available\n",
        "    if (records[id][\"qn\"] > qp):\n",
        "        print(\"******BILL******\\nProduct name : \", records[id][\"name\"], \"\\nAmount = \", records[id][\"pr\"]*qp)\n",
        "        # updating the record quantity\n",
        "        records[id][\"qn\"] = records[id][\"qn\"] - qp\n",
        "        js = json.dumps(records, indent=2)\n",
        "        fd = open(\"record.json\", 'w')\n",
        "        fd.write(js)\n",
        "        fd.close()\n",
        "        f = open(\"sales.json\", 'r')\n",
        "        rr = f.read()\n",
        "        f.close()\n",
        "        sales = json.loads(rr)\n",
        "        # updating sales\n",
        "        sales[len(sales)+1] = {\"id\": id, \"name\": records[id][\"name\"], \"qn\": qp, \"amt\": records[id][\"pr\"]*qp}\n",
        "        jss = json.dumps(sales, indent=2)\n",
        "        f = open(\"sales.json\", 'w')\n",
        "        f.write(jss)\n",
        "        f.close()\n",
        "    else:\n",
        "        print(\"Not enough quantity\")\n",
        "else:\n",
        "    print(\"Product not in inventory\")"
      ],
      "execution_count": 2,
      "outputs": [
        {
          "output_type": "stream",
          "name": "stdout",
          "text": [
            "Enter the product ID : 1001\n",
            "Enter the quantity : 23\n",
            "******BILL******\n",
            "Product name :  Choco Cake \n",
            "Amount =  2300\n"
          ]
        }
      ]
    },
    {
      "cell_type": "markdown",
      "metadata": {
        "id": "RvXT6TisrR6X"
      },
      "source": [
        "## record.json"
      ]
    },
    {
      "cell_type": "code",
      "metadata": {
        "id": "R38UiAdDrfMY"
      },
      "source": [
        "f = open(\"record.json\", 'r')\n",
        "r = f.read()\n",
        "f.close()\n",
        "print(r)"
      ],
      "execution_count": null,
      "outputs": []
    },
    {
      "cell_type": "markdown",
      "metadata": {
        "id": "Ygvq9wEircHe"
      },
      "source": [
        "## sales.json"
      ]
    },
    {
      "cell_type": "code",
      "metadata": {
        "id": "pnd0Yirdru5w",
        "colab": {
          "base_uri": "https://localhost:8080/"
        },
        "outputId": "be5a6d2f-aaa1-410e-e376-43717b163330"
      },
      "source": [
        "fd = open(\"sales.json\", 'r')\n",
        "rr = fd.read()\n",
        "fd.close()\n",
        "print(rr)"
      ],
      "execution_count": null,
      "outputs": [
        {
          "output_type": "stream",
          "name": "stdout",
          "text": [
            "{\n",
            "  \"1\": {\n",
            "    \"id\": 1001,\n",
            "    \"name\": \"Choco Cake\",\n",
            "    \"qn\": 10,\n",
            "    \"amt\": 1000\n",
            "  },\n",
            "  \"2\": {\n",
            "    \"id\": \"1001\",\n",
            "    \"name\": \"Choco Cake\",\n",
            "    \"qn\": 20,\n",
            "    \"amt\": 2000\n",
            "  }\n",
            "}\n"
          ]
        }
      ]
    }
  ]
}