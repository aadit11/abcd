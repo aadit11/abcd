{
  "nbformat": 4,
  "nbformat_minor": 0,
  "metadata": {
    "colab": {
      "name": "Adding_New_Products.ipynb",
      "provenance": [],
      "collapsed_sections": []
    },
    "kernelspec": {
      "name": "python3",
      "display_name": "Python 3"
    },
    "language_info": {
      "name": "python"
    }
  },
  "cells": [
    {
      "cell_type": "markdown",
      "metadata": {
        "id": "-40VrMCulCYf"
      },
      "source": [
        "##Read Data from Inventory\n"
      ]
    },
    {
      "cell_type": "code",
      "metadata": {
        "id": "z6LmIm4wi2sg",
        "colab": {
          "base_uri": "https://localhost:8080/"
        },
        "outputId": "b8870754-b13b-4b38-deb4-b1bbaffc60db"
      },
      "source": [
        "import json\n",
        "f = open(\"record.json\", 'r')\n",
        "r = f.read()\n",
        "f.close()\n",
        "record = json.loads(r)\n",
        "print(r)"
      ],
      "execution_count": 1,
      "outputs": [
        {
          "output_type": "stream",
          "name": "stdout",
          "text": [
            "{\n",
            "    \"1001\": { \"name\": \"Choco Cake\", \"pr\": 100, \"qn\": 34 },\n",
            "    \"1002\": { \"name\": \"Milk Cake\", \"pr\": 800, \"qn\": 100 },\n",
            "    \"1003\": { \"name\": \"Drink\", \"pr\": 85, \"qn\": 100 },\n",
            "    \"1004\": { \"name\": \"Candy\", \"pr\": 5, \"qn\": 1000 },\n",
            "    \"1005\": { \"name\": \"Pen\", \"pr\": 20, \"qn\": 100 },\n",
            "    \"1006\": { \"name\": \"Phone\", \"pr\": 50000, \"qn\": 10 },\n",
            "    \"1007\": { \"name\": \"Mic\", \"pr\": 1500, \"qn\": 0 },\n",
            "    \"1008\": { \"name\": \"Case\", \"pr\": 599, \"qn\": 5 },\n",
            "    \"1009\": { \"name\": \"Keyboard\", \"pr\": 1999, \"qn\": 10 }\n",
            "  }\n"
          ]
        }
      ]
    },
    {
      "cell_type": "markdown",
      "metadata": {
        "id": "qt_rg_4BlO7f"
      },
      "source": [
        "## Add New Item into Inventory"
      ]
    },
    {
      "cell_type": "code",
      "metadata": {
        "id": "iLB9MFJYlQF-",
        "colab": {
          "base_uri": "https://localhost:8080/"
        },
        "outputId": "ab77f7cc-dfef-4af6-a70c-b869d16a1c0b"
      },
      "source": [
        "uid = str(input(\"Enter the product ID : \"))\n",
        "# checking if the product is already part of the inventory\n",
        "if uid in record.keys() :\n",
        "    # modifying product info if it already exists\n",
        "    c = str(input(print(\"The product is already in the inventory\\nWould you like to update the products records?\\nEnter Y/N\")))\n",
        "    c = c.lower()\n",
        "    if (c == \"y\"):\n",
        "        x = int(input(print(\"Enter 1 to update the price\\nEnter 2 to update the quantity\\nEnter 3 to remove the product\")))\n",
        "        if (x == 1):\n",
        "            # updating the new price\n",
        "            np = int(input(print(\"Enter the new price : \")))\n",
        "            record[uid][\"pr\"] = np\n",
        "        elif (x == 2):\n",
        "            # updating quantity\n",
        "            nq = int(input(print(\"Enter the new quantity : \")))\n",
        "            record[uid][\"qn\"] = nq\n",
        "        elif (x == 3):\n",
        "            # removing products\n",
        "            del record[uid]\n",
        "        else:\n",
        "            print(\"Invalid Input\")\n",
        "    elif (c == \"n\"):\n",
        "        pass\n",
        "    else:\n",
        "        print(\"Invalid Input\")\n",
        "# adding new product to the records\n",
        "else:\n",
        "    n = str(input(\"Enter the name of the product : \"))\n",
        "    p = int(input(\"Enter the price of the product : \"))\n",
        "    q = int(input(\"Enter the quantity available : \"))\n",
        "    record[uid] = {\"name\": n, \"pr\": p, \"qn\": q}"
      ],
      "execution_count": 2,
      "outputs": [
        {
          "name": "stdout",
          "output_type": "stream",
          "text": [
            "Enter the product ID : 1234\n",
            "Enter the name of the product : ice cream\n",
            "Enter the price of the product : 345\n",
            "Enter the quantity available : 120\n"
          ]
        }
      ]
    },
    {
      "cell_type": "markdown",
      "metadata": {
        "id": "StaKqlvIlpZj"
      },
      "source": [
        "## Updating JSON"
      ]
    },
    {
      "cell_type": "code",
      "metadata": {
        "id": "mHTSjo3Jlrho",
        "colab": {
          "base_uri": "https://localhost:8080/"
        },
        "outputId": "71b101cb-6331-43d4-e7eb-0fe260a38aad"
      },
      "source": [
        "js = json.dumps(record, indent=2, sort_keys=True)\n",
        "f = open(\"record.json\", 'w')\n",
        "f.write(js)\n",
        "f.close()\n",
        "f = open(\"record.json\", 'r')\n",
        "r = f.read()\n",
        "f.close()\n",
        "print(r)"
      ],
      "execution_count": 3,
      "outputs": [
        {
          "output_type": "stream",
          "name": "stdout",
          "text": [
            "{\n",
            "  \"1001\": {\n",
            "    \"name\": \"Choco Cake\",\n",
            "    \"pr\": 100,\n",
            "    \"qn\": 34\n",
            "  },\n",
            "  \"1002\": {\n",
            "    \"name\": \"Milk Cake\",\n",
            "    \"pr\": 800,\n",
            "    \"qn\": 100\n",
            "  },\n",
            "  \"1003\": {\n",
            "    \"name\": \"Drink\",\n",
            "    \"pr\": 85,\n",
            "    \"qn\": 100\n",
            "  },\n",
            "  \"1004\": {\n",
            "    \"name\": \"Candy\",\n",
            "    \"pr\": 5,\n",
            "    \"qn\": 1000\n",
            "  },\n",
            "  \"1005\": {\n",
            "    \"name\": \"Pen\",\n",
            "    \"pr\": 20,\n",
            "    \"qn\": 100\n",
            "  },\n",
            "  \"1006\": {\n",
            "    \"name\": \"Phone\",\n",
            "    \"pr\": 50000,\n",
            "    \"qn\": 10\n",
            "  },\n",
            "  \"1007\": {\n",
            "    \"name\": \"Mic\",\n",
            "    \"pr\": 1500,\n",
            "    \"qn\": 0\n",
            "  },\n",
            "  \"1008\": {\n",
            "    \"name\": \"Case\",\n",
            "    \"pr\": 599,\n",
            "    \"qn\": 5\n",
            "  },\n",
            "  \"1009\": {\n",
            "    \"name\": \"Keyboard\",\n",
            "    \"pr\": 1999,\n",
            "    \"qn\": 10\n",
            "  },\n",
            "  \"1234\": {\n",
            "    \"name\": \"ice cream\",\n",
            "    \"pr\": 345,\n",
            "    \"qn\": 120\n",
            "  }\n",
            "}\n"
          ]
        }
      ]
    }
  ]
}