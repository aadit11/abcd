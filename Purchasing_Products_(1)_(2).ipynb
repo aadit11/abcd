{
  "nbformat": 4,
  "nbformat_minor": 0,
  "metadata": {
    "colab": {
      "name": "Purchasing_Products (1) (2).ipynb",
      "provenance": [],
      "collapsed_sections": []
    },
    "kernelspec": {
      "name": "python3",
      "display_name": "Python 3"
    },
    "language_info": {
      "name": "python"
    }
  },
  "cells": [
    {
      "cell_type": "markdown",
      "metadata": {
        "id": "YS2BeA2IqkFy"
      },
      "source": [
        "## Read Data from Inventory"
      ]
    },
    {
      "cell_type": "code",
      "metadata": {
        "id": "Q4FRK4d8poVj",
        "colab": {
          "base_uri": "https://localhost:8080/"
        },
        "outputId": "131ab869-3593-4cdb-957b-4c2b52a8a696"
      },
      "source": [
        "import json\n",
        "fd = open(\"record.json\", 'r')\n",
        "r = fd.read()\n",
        "fd.close()\n",
        "records = json.loads(r)\n",
        "print(r)"
      ],
      "execution_count": 1,
      "outputs": [
        {
          "output_type": "stream",
          "name": "stdout",
          "text": [
            "{\n",
            "    \"1001\": { \"name\": \"Choco Cake\", \"pr\": 100, \"qn\": 34 },\n",
            "    \"1002\": { \"name\": \"Milk Cake\", \"pr\": 800, \"qn\": 100 },\n",
            "    \"1003\": { \"name\": \"Drink\", \"pr\": 85, \"qn\": 100 },\n",
            "    \"1004\": { \"name\": \"Candy\", \"pr\": 5, \"qn\": 1000 },\n",
            "    \"1005\": { \"name\": \"Pen\", \"pr\": 20, \"qn\": 100 },\n",
            "    \"1006\": { \"name\": \"Phone\", \"pr\": 50000, \"qn\": 10 },\n",
            "    \"1007\": { \"name\": \"Mic\", \"pr\": 1500, \"qn\": 0 },\n",
            "    \"1008\": { \"name\": \"Case\", \"pr\": 599, \"qn\": 5 },\n",
            "    \"1009\": { \"name\": \"Keyboard\", \"pr\": 1999, \"qn\": 10 }\n",
            "  }\n"
          ]
        }
      ]
    },
    {
      "cell_type": "markdown",
      "metadata": {
        "id": "NFkiS0egq9Sa"
      },
      "source": [
        "## Purchasing from Inventory"
      ]
    },
    {
      "cell_type": "code",
      "metadata": {
        "id": "XSBlC2VJrERn",
        "colab": {
          "base_uri": "https://localhost:8080/"
        },
        "outputId": "51576cb4-545e-48b5-b87c-c0d494e6142f"
      },
      "source": [
        "id = str(input(\"Enter the product ID : \"))\n",
        "if id in records.keys() :\n",
        "    qp = int(input(\"Enter the quantity : \"))\n",
        "    # checking if enough quantity is available\n",
        "    if (records[id][\"qn\"] > qp):\n",
        "        print(\"******BILL******\\nProduct name : \", records[id][\"name\"], \"\\nAmount = \", records[id][\"pr\"]*qp)\n",
        "        # updating the record quantity\n",
        "        records[id][\"qn\"] = records[id][\"qn\"] - qp\n",
        "        js = json.dumps(records, indent=2)\n",
        "        fd = open(\"record.json\", 'w')\n",
        "        fd.write(js)\n",
        "        fd.close()\n",
        "        f = open(\"sales.json\", 'r')\n",
        "        rr = f.read()\n",
        "        f.close()\n",
        "        sales = json.loads(rr)\n",
        "        # updating sales\n",
        "        sales[len(sales)+1] = {\"id\": id, \"name\": records[id][\"name\"], \"qn\": qp, \"amt\": records[id][\"pr\"]*qp}\n",
        "        jss = json.dumps(sales, indent=2)\n",
        "        f = open(\"sales.json\", 'w')\n",
        "        f.write(jss)\n",
        "        f.close()\n",
        "    else:\n",
        "        print(\"Not enough quantity\")\n",
        "else:\n",
        "    print(\"Product not in inventory\")"
      ],
      "execution_count": 2,
      "outputs": [
        {
          "output_type": "stream",
          "name": "stdout",
          "text": [
            "Enter the product ID : 1001\n",
            "Enter the quantity : 23\n",
            "******BILL******\n",
            "Product name :  Choco Cake \n",
            "Amount =  2300\n"
          ]
        }
      ]
    },
    {
      "cell_type": "markdown",
      "metadata": {
        "id": "RvXT6TisrR6X"
      },
      "source": [
        "## record.json"
      ]
    },
    {
      "cell_type": "code",
      "metadata": {
        "id": "R38UiAdDrfMY",
        "colab": {
          "base_uri": "https://localhost:8080/"
        },
        "outputId": "95d13b69-4d49-49ee-bede-d20e7b3435be"
      },
      "source": [
        "f = open(\"record.json\", 'r')\n",
        "r = f.read()\n",
        "f.close()\n",
        "print(r)"
      ],
      "execution_count": 3,
      "outputs": [
        {
          "output_type": "stream",
          "name": "stdout",
          "text": [
            "{\n",
            "  \"1001\": {\n",
            "    \"name\": \"Choco Cake\",\n",
            "    \"pr\": 100,\n",
            "    \"qn\": 11\n",
            "  },\n",
            "  \"1002\": {\n",
            "    \"name\": \"Milk Cake\",\n",
            "    \"pr\": 800,\n",
            "    \"qn\": 100\n",
            "  },\n",
            "  \"1003\": {\n",
            "    \"name\": \"Drink\",\n",
            "    \"pr\": 85,\n",
            "    \"qn\": 100\n",
            "  },\n",
            "  \"1004\": {\n",
            "    \"name\": \"Candy\",\n",
            "    \"pr\": 5,\n",
            "    \"qn\": 1000\n",
            "  },\n",
            "  \"1005\": {\n",
            "    \"name\": \"Pen\",\n",
            "    \"pr\": 20,\n",
            "    \"qn\": 100\n",
            "  },\n",
            "  \"1006\": {\n",
            "    \"name\": \"Phone\",\n",
            "    \"pr\": 50000,\n",
            "    \"qn\": 10\n",
            "  },\n",
            "  \"1007\": {\n",
            "    \"name\": \"Mic\",\n",
            "    \"pr\": 1500,\n",
            "    \"qn\": 0\n",
            "  },\n",
            "  \"1008\": {\n",
            "    \"name\": \"Case\",\n",
            "    \"pr\": 599,\n",
            "    \"qn\": 5\n",
            "  },\n",
            "  \"1009\": {\n",
            "    \"name\": \"Keyboard\",\n",
            "    \"pr\": 1999,\n",
            "    \"qn\": 10\n",
            "  }\n",
            "}\n"
          ]
        }
      ]
    },
    {
      "cell_type": "markdown",
      "metadata": {
        "id": "Ygvq9wEircHe"
      },
      "source": [
        "## sales.json"
      ]
    },
    {
      "cell_type": "code",
      "metadata": {
        "id": "pnd0Yirdru5w",
        "colab": {
          "base_uri": "https://localhost:8080/"
        },
        "outputId": "005cdd4f-0834-4677-dda7-249174ac63bc"
      },
      "source": [
        "fd = open(\"sales.json\", 'r')\n",
        "rr = fd.read()\n",
        "fd.close()\n",
        "print(rr)"
      ],
      "execution_count": 4,
      "outputs": [
        {
          "output_type": "stream",
          "name": "stdout",
          "text": [
            "{\n",
            "  \"1\": {\n",
            "    \"id\": 1001,\n",
            "    \"name\": \"Choco Cake\",\n",
            "    \"qn\": 10,\n",
            "    \"amt\": 1000\n",
            "  },\n",
            "  \"2\": {\n",
            "    \"id\": \"1001\",\n",
            "    \"name\": \"Choco Cake\",\n",
            "    \"qn\": 23,\n",
            "    \"amt\": 2300\n",
            "  }\n",
            "}\n"
          ]
        }
      ]
    }
  ]
}